{
 "cells": [
  {
   "cell_type": "markdown",
   "id": "da168162",
   "metadata": {},
   "source": [
    "svxcgsx"
   ]
  }
 ],
 "metadata": {
  "language_info": {
   "name": "python"
  }
 },
 "nbformat": 4,
 "nbformat_minor": 5
}
