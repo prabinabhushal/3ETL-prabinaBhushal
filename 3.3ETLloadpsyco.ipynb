{
 "cells": [
  {
   "cell_type": "code",
   "execution_count": 1,
   "id": "88d395bb",
   "metadata": {},
   "outputs": [],
   "source": [
    "import psycopg2\n",
    "from pyspark.sql import SparkSession"
   ]
  },
  {
   "cell_type": "code",
   "execution_count": 2,
   "id": "9a375bcd",
   "metadata": {},
   "outputs": [
    {
     "name": "stderr",
     "output_type": "stream",
     "text": [
      "25/04/29 17:28:45 WARN Utils: Your hostname, prabina-bhushal resolves to a loopback address: 127.0.1.1; using 10.10.42.115 instead (on interface enp2s0)\n",
      "25/04/29 17:28:45 WARN Utils: Set SPARK_LOCAL_IP if you need to bind to another address\n",
      "25/04/29 17:28:46 WARN NativeCodeLoader: Unable to load native-hadoop library for your platform... using builtin-java classes where applicable\n",
      "Setting default log level to \"WARN\".\n",
      "To adjust logging level use sc.setLogLevel(newLevel). For SparkR, use setLogLevel(newLevel).\n"
     ]
    },
    {
     "data": {
      "text/html": [
       "\n",
       "            <div>\n",
       "                <p><b>SparkSession - in-memory</b></p>\n",
       "                \n",
       "        <div>\n",
       "            <p><b>SparkContext</b></p>\n",
       "\n",
       "            <p><a href=\"http://10.10.42.115:4040\">Spark UI</a></p>\n",
       "\n",
       "            <dl>\n",
       "              <dt>Version</dt>\n",
       "                <dd><code>v3.5.5</code></dd>\n",
       "              <dt>Master</dt>\n",
       "                <dd><code>local[*]</code></dd>\n",
       "              <dt>AppName</dt>\n",
       "                <dd><code>PostgresSQLConn</code></dd>\n",
       "            </dl>\n",
       "        </div>\n",
       "        \n",
       "            </div>\n",
       "        "
      ],
      "text/plain": [
       "<pyspark.sql.session.SparkSession at 0x74164735e770>"
      ]
     },
     "execution_count": 2,
     "metadata": {},
     "output_type": "execute_result"
    }
   ],
   "source": [
    "spark = SparkSession.builder \\\n",
    "    .appName(\"PostgresSQLConn\") \\\n",
    "    .config(\"spark.jars\", \"/home/prabina-bhushal/jars/postgresql-42.5.6.jar\") \\\n",
    "    .getOrCreate()\n",
    "spark"
   ]
  },
  {
   "cell_type": "code",
   "execution_count": 3,
   "id": "fa1968fe",
   "metadata": {},
   "outputs": [],
   "source": [
    "jdbc_url = \"jdbc:postgresql://localhost:5432/postgres\"\n",
    "conn_properties = {\n",
    "    \"user\" : \"postgres\",\n",
    "    \"password\" : \"123\",\n",
    "    \"driver\" :\"org.postgresql.Driver\"\n",
    "\n",
    "}"
   ]
  },
  {
   "cell_type": "code",
   "execution_count": 4,
   "id": "9e8260c0",
   "metadata": {},
   "outputs": [],
   "source": [
    "conn = psycopg2.connect(\n",
    "    port = 5432,\n",
    "    host = \"localhost\",\n",
    "    dbname='postgres',\n",
    "    user =\"postgres\",\n",
    "    password = \"123\",\n",
    ")\n",
    "cursor = conn.cursor()"
   ]
  },
  {
   "cell_type": "code",
   "execution_count": 5,
   "id": "25f8b015",
   "metadata": {},
   "outputs": [],
   "source": [
    "provider_table = \"\"\"\n",
    "CREATE TABLE IF NOT EXISTS provider_table (\n",
    "    provider_group_id BIGINT,\n",
    "    npi BIGINT,\n",
    "    tin_type SMALLINT,\n",
    "    tin TEXT \n",
    ");\n",
    "\"\"\"\n",
    "cursor.execute(provider_table)\n",
    "conn.commit()"
   ]
  },
  {
   "cell_type": "code",
   "execution_count": 6,
   "id": "00e1ab40",
   "metadata": {},
   "outputs": [
    {
     "name": "stderr",
     "output_type": "stream",
     "text": [
      "                                                                                \r"
     ]
    }
   ],
   "source": [
    "spark2 = spark.read.parquet('ProviderScrub.parquet')"
   ]
  },
  {
   "cell_type": "code",
   "execution_count": 7,
   "id": "812ccc9a",
   "metadata": {},
   "outputs": [
    {
     "name": "stdout",
     "output_type": "stream",
     "text": [
      "root\n",
      " |-- provider_group_id: long (nullable = true)\n",
      " |-- npi: long (nullable = true)\n",
      " |-- tin_type: short (nullable = true)\n",
      " |-- tin: string (nullable = true)\n",
      "\n"
     ]
    }
   ],
   "source": [
    "spark2.printSchema()"
   ]
  },
  {
   "cell_type": "code",
   "execution_count": 8,
   "id": "cdda5a23",
   "metadata": {},
   "outputs": [
    {
     "name": "stderr",
     "output_type": "stream",
     "text": [
      "                                                                                \r"
     ]
    }
   ],
   "source": [
    "spark2.write.jdbc(url=jdbc_url, table=\"provider_table\", mode=\"append\", properties= conn_properties)"
   ]
  },
  {
   "cell_type": "code",
   "execution_count": 15,
   "id": "38182662",
   "metadata": {},
   "outputs": [],
   "source": [
    "in_network_table = \"\"\"\n",
    "CREATE TABLE IF NOT EXISTS in_network (\n",
    "    billing_code TEXT,\n",
    "    billing_code_type TEXT,\n",
    "    negotiation_arrangement TEXT,\n",
    "    provider_group_id BIGINT,\n",
    "    negotiated_type TEXT,\n",
    "    negotiated_rate DOUBLE PRECISION,\n",
    "    billing_class TEXT,\n",
    "    billing_code_modifier TEXT[],\n",
    "    service_code INTEGER[]\n",
    ");\n",
    "\"\"\"\n",
    "cursor.execute(in_network_table)\n",
    "conn.commit()"
   ]
  },
  {
   "cell_type": "code",
   "execution_count": 16,
   "id": "ec0c85b1",
   "metadata": {},
   "outputs": [],
   "source": [
    "spark1 = spark.read.parquet('NetworkScrub.parquet')"
   ]
  },
  {
   "cell_type": "code",
   "execution_count": 12,
   "id": "8d88c5b9",
   "metadata": {},
   "outputs": [
    {
     "name": "stdout",
     "output_type": "stream",
     "text": [
      "root\n",
      " |-- billing_code: string (nullable = true)\n",
      " |-- billing_code_type: string (nullable = true)\n",
      " |-- negotiation_arrangement: string (nullable = true)\n",
      " |-- provider_group_id: long (nullable = true)\n",
      " |-- negotiated_type: string (nullable = true)\n",
      " |-- negotiated_rate: double (nullable = true)\n",
      " |-- billing_class: string (nullable = true)\n",
      " |-- billing_code_modifier: array (nullable = true)\n",
      " |    |-- element: string (containsNull = true)\n",
      " |-- service_code: array (nullable = true)\n",
      " |    |-- element: integer (containsNull = true)\n",
      "\n"
     ]
    }
   ],
   "source": [
    "spark1.printSchema()"
   ]
  },
  {
   "cell_type": "code",
   "execution_count": 17,
   "id": "cfa54eda",
   "metadata": {},
   "outputs": [
    {
     "name": "stderr",
     "output_type": "stream",
     "text": [
      "                                                                                \r"
     ]
    }
   ],
   "source": [
    "spark1.write.jdbc(url=jdbc_url, table=\"in_network\", mode=\"append\", properties=conn_properties)"
   ]
  },
  {
   "cell_type": "code",
   "execution_count": null,
   "id": "c300f0e5",
   "metadata": {},
   "outputs": [],
   "source": []
  }
 ],
 "metadata": {
  "kernelspec": {
   "display_name": "Python 3",
   "language": "python",
   "name": "python3"
  },
  "language_info": {
   "codemirror_mode": {
    "name": "ipython",
    "version": 3
   },
   "file_extension": ".py",
   "mimetype": "text/x-python",
   "name": "python",
   "nbconvert_exporter": "python",
   "pygments_lexer": "ipython3",
   "version": "3.10.12"
  }
 },
 "nbformat": 4,
 "nbformat_minor": 5
}
