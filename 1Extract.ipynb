{
 "cells": [
  {
   "cell_type": "markdown",
   "id": "11238a21",
   "metadata": {},
   "source": [
    "Extract"
   ]
  },
  {
   "cell_type": "code",
   "execution_count": null,
   "id": "708fe345",
   "metadata": {},
   "outputs": [
    {
     "name": "stdout",
     "output_type": "stream",
     "text": [
      "<class 'list'>\n",
      "<class 'list'>\n",
      "      negotiation_arrangement                            name  \\\n",
      "0                         ffs  (PEMG)PHYSICAL,HEARING,VISION,   \n",
      "1                         ffs  *ACETABULAR AUGMENTATION (WILS   \n",
      "2                         ffs                       *AMIKACIN   \n",
      "3                         ffs  *ANTERIOR GASTROPEXY FOR HIATA   \n",
      "4                         ffs  *CORONARY ARTERY BYPASS,NONAUT   \n",
      "...                       ...                             ...   \n",
      "34396                     ffs  UP EXTRM FX ORTH RADUS/ULNAR P   \n",
      "34397                     ffs            VACUUM ERECTION SYST   \n",
      "34398                     ffs  WHFO PALMER PREFAB INCL FIT&AD   \n",
      "34399                     ffs  WHL ATTCH PCK-UP WLK- PER PAIR   \n",
      "34400                     ffs  ZUBC AIR BA CI & AUD SD PRC RP   \n",
      "\n",
      "      billing_code_type billing_code_type_version billing_code  \\\n",
      "0                   CPT                      2023        PEMG1   \n",
      "1                   CPT                      2023        27157   \n",
      "2                   CPT                      2023        82112   \n",
      "3                   CPT                      2023        43885   \n",
      "4                   CPT                      2023        33525   \n",
      "...                 ...                       ...          ...   \n",
      "34396             HCPCS                      2022        L3982   \n",
      "34397             HCPCS                      2022        K0163   \n",
      "34398             HCPCS                      2022        L3936   \n",
      "34399             HCPCS                      2022        E0155   \n",
      "34400             HCPCS                      2022        L8621   \n",
      "\n",
      "                          description  \\\n",
      "0      (PEMG)PHYSICAL,HEARING,VISION,   \n",
      "1      *ACETABULAR AUGMENTATION (WILS   \n",
      "2                           *AMIKACIN   \n",
      "3      *ANTERIOR GASTROPEXY FOR HIATA   \n",
      "4      *CORONARY ARTERY BYPASS,NONAUT   \n",
      "...                               ...   \n",
      "34396  UP EXTRM FX ORTH RADUS/ULNAR P   \n",
      "34397            VACUUM ERECTION SYST   \n",
      "34398  WHFO PALMER PREFAB INCL FIT&AD   \n",
      "34399  WHL ATTCH PCK-UP WLK- PER PAIR   \n",
      "34400  ZUBC AIR BA CI & AUD SD PRC RP   \n",
      "\n",
      "                                        negotiated_rates  \n",
      "0      [{'negotiated_prices': [{'negotiated_type': 'n...  \n",
      "1      [{'negotiated_prices': [{'negotiated_type': 'n...  \n",
      "2      [{'negotiated_prices': [{'negotiated_type': 'n...  \n",
      "3      [{'negotiated_prices': [{'negotiated_type': 'n...  \n",
      "4      [{'negotiated_prices': [{'negotiated_type': 'n...  \n",
      "...                                                  ...  \n",
      "34396  [{'negotiated_prices': [{'negotiated_type': 'n...  \n",
      "34397  [{'negotiated_prices': [{'negotiated_type': 'p...  \n",
      "34398  [{'negotiated_prices': [{'negotiated_type': 'p...  \n",
      "34399  [{'negotiated_prices': [{'negotiated_type': 'n...  \n",
      "34400  [{'negotiated_prices': [{'negotiated_type': 'n...  \n",
      "\n",
      "[34401 rows x 7 columns]\n",
      "     provider_group_id                                    provider_groups\n",
      "0             10001001  [{'npi': [1235233008, 1316041189, 1780788554, ...\n",
      "1             10002001  [{'npi': [1609829761, 1821482241], 'tin': {'ty...\n",
      "2             10003001  [{'npi': [1720350119], 'tin': {'type': 'ein', ...\n",
      "3             10004001  [{'npi': [1417152349, 1659638708], 'tin': {'ty...\n",
      "4             10006001  [{'npi': [1043293582, 1912985656], 'tin': {'ty...\n",
      "..                 ...                                                ...\n",
      "378               5012  [{'npi': [1437154010], 'tin': {'type': 'ein', ...\n",
      "379               5013  [{'npi': [1356334577], 'tin': {'type': 'ein', ...\n",
      "380               5014  [{'npi': [1497784334], 'tin': {'type': 'ein', ...\n",
      "381               5015  [{'npi': [1053412643], 'tin': {'type': 'ein', ...\n",
      "382               5016  [{'npi': [1518036458], 'tin': {'type': 'ein', ...\n",
      "\n",
      "[383 rows x 2 columns]\n"
     ]
    }
   ],
   "source": [
    "import ijson\n",
    "import pandas as pd\n",
    "\n",
    "data = []\n",
    "rate = []\n",
    "\n",
    "\n",
    "with open('MagnaCarePPO_In-Network.json', 'rb') as f:\n",
    "    for item in ijson.items(f, 'in_network.item'):\n",
    "        data.append(item)\n",
    "\n",
    "with open('MagnaCarePPO_In-Network.json', 'rb') as f1:\n",
    "    for item1 in ijson.items(f1, 'provider_references.item'):\n",
    "        rate.append(item1)\n",
    "\n",
    "print(type(data))\n",
    "print(type(rate))\n",
    "\n",
    "df1=pd.DataFrame(data)\n",
    "print(df1)\n",
    "\n",
    "df2=pd.DataFrame(rate)\n",
    "print(df2)"
   ]
  },
  {
   "cell_type": "code",
   "execution_count": null,
   "id": "08a5bdaa",
   "metadata": {},
   "outputs": [],
   "source": [
    "df1.to_json('df1.json',orient='records',indent =4)\n",
    "df2.to_json('df2.json',orient='records',indent =4)"
   ]
  },
  {
   "cell_type": "markdown",
   "id": "1554dd0e",
   "metadata": {},
   "source": [
    "To make parquetFile"
   ]
  },
  {
   "cell_type": "code",
   "execution_count": null,
   "id": "773eaaa9",
   "metadata": {},
   "outputs": [],
   "source": [
    "df1.to_parquet('df1.parquet')\n",
    "df2.to_parquet('df2.parquet')"
   ]
  }
 ],
 "metadata": {
  "language_info": {
   "name": "python"
  }
 },
 "nbformat": 4,
 "nbformat_minor": 5
}
