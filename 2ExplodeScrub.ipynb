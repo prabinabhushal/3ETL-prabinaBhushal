{
 "cells": [
  {
   "cell_type": "markdown",
   "id": "5757309c",
   "metadata": {},
   "source": [
    "Scrub"
   ]
  },
  {
   "cell_type": "code",
   "execution_count": 1,
   "id": "42363a23",
   "metadata": {},
   "outputs": [],
   "source": [
    "from pyspark.sql import SparkSession\n",
    "from pyspark.sql.functions import explode, col,array,when\n",
    "from pyspark.sql.types import ArrayType, IntegerType, ShortType"
   ]
  },
  {
   "cell_type": "code",
   "execution_count": 2,
   "id": "42ee66fc",
   "metadata": {},
   "outputs": [
    {
     "name": "stderr",
     "output_type": "stream",
     "text": [
      "25/04/30 14:47:48 WARN Utils: Your hostname, prabina-bhushal resolves to a loopback address: 127.0.1.1; using 192.168.1.191 instead (on interface wlx54ef33f6c819)\n",
      "25/04/30 14:47:48 WARN Utils: Set SPARK_LOCAL_IP if you need to bind to another address\n",
      "Setting default log level to \"WARN\".\n",
      "To adjust logging level use sc.setLogLevel(newLevel). For SparkR, use setLogLevel(newLevel).\n",
      "25/04/30 14:47:55 WARN NativeCodeLoader: Unable to load native-hadoop library for your platform... using builtin-java classes where applicable\n"
     ]
    },
    {
     "data": {
      "text/html": [
       "\n",
       "            <div>\n",
       "                <p><b>SparkSession - in-memory</b></p>\n",
       "                \n",
       "        <div>\n",
       "            <p><b>SparkContext</b></p>\n",
       "\n",
       "            <p><a href=\"http://192.168.1.191:4040\">Spark UI</a></p>\n",
       "\n",
       "            <dl>\n",
       "              <dt>Version</dt>\n",
       "                <dd><code>v3.5.5</code></dd>\n",
       "              <dt>Master</dt>\n",
       "                <dd><code>local[*]</code></dd>\n",
       "              <dt>AppName</dt>\n",
       "                <dd><code>ETL</code></dd>\n",
       "            </dl>\n",
       "        </div>\n",
       "        \n",
       "            </div>\n",
       "        "
      ],
      "text/plain": [
       "<pyspark.sql.session.SparkSession at 0x7707c8db4be0>"
      ]
     },
     "execution_count": 2,
     "metadata": {},
     "output_type": "execute_result"
    }
   ],
   "source": [
    "spark = SparkSession.builder\\\n",
    "    .appName('ETL')\\\n",
    "        .config(\"spark.driver.memory\", \"4g\").getOrCreate()\n",
    "spark"
   ]
  },
  {
   "cell_type": "code",
   "execution_count": 3,
   "id": "13a32b9b",
   "metadata": {},
   "outputs": [
    {
     "name": "stderr",
     "output_type": "stream",
     "text": [
      "                                                                                \r"
     ]
    }
   ],
   "source": [
    "network = spark.read.option(\"multiline\",\"true\").json(\"IgnoreFolder/df1.json\")\n",
    "provider = spark.read.option(\"multiline\",\"true\").json(\"IgnoreFolder/df2.json\")"
   ]
  },
  {
   "cell_type": "code",
   "execution_count": 4,
   "id": "6ea833cc",
   "metadata": {},
   "outputs": [
    {
     "name": "stdout",
     "output_type": "stream",
     "text": [
      "root\n",
      " |-- billing_code: string (nullable = true)\n",
      " |-- billing_code_type: string (nullable = true)\n",
      " |-- billing_code_type_version: string (nullable = true)\n",
      " |-- description: string (nullable = true)\n",
      " |-- name: string (nullable = true)\n",
      " |-- negotiated_rates: array (nullable = true)\n",
      " |    |-- element: struct (containsNull = true)\n",
      " |    |    |-- negotiated_prices: array (nullable = true)\n",
      " |    |    |    |-- element: struct (containsNull = true)\n",
      " |    |    |    |    |-- additional_information: string (nullable = true)\n",
      " |    |    |    |    |-- billing_class: string (nullable = true)\n",
      " |    |    |    |    |-- billing_code_modifier: array (nullable = true)\n",
      " |    |    |    |    |    |-- element: string (containsNull = true)\n",
      " |    |    |    |    |-- expiration_date: string (nullable = true)\n",
      " |    |    |    |    |-- negotiated_rate: double (nullable = true)\n",
      " |    |    |    |    |-- negotiated_type: string (nullable = true)\n",
      " |    |    |    |    |-- service_code: array (nullable = true)\n",
      " |    |    |    |    |    |-- element: string (containsNull = true)\n",
      " |    |    |-- provider_references: array (nullable = true)\n",
      " |    |    |    |-- element: long (containsNull = true)\n",
      " |-- negotiation_arrangement: string (nullable = true)\n",
      "\n",
      "root\n",
      " |-- provider_group_id: long (nullable = true)\n",
      " |-- provider_groups: array (nullable = true)\n",
      " |    |-- element: struct (containsNull = true)\n",
      " |    |    |-- npi: array (nullable = true)\n",
      " |    |    |    |-- element: long (containsNull = true)\n",
      " |    |    |-- tin: struct (nullable = true)\n",
      " |    |    |    |-- type: string (nullable = true)\n",
      " |    |    |    |-- value: string (nullable = true)\n",
      "\n"
     ]
    }
   ],
   "source": [
    "type(network)\n",
    "type(provider)\n",
    "\n",
    "network.printSchema()\n",
    "provider.printSchema()"
   ]
  },
  {
   "cell_type": "code",
   "execution_count": 5,
   "id": "d7bdd0f3",
   "metadata": {},
   "outputs": [],
   "source": [
    "network_exploded = network.withColumn(\"rates\", explode(\"negotiated_rates\"))\n",
    "id_exploded = network_exploded.withColumn(\"id\", explode(\"rates.provider_references\"))\n",
    "network_rates = id_exploded.withColumn(\"prices\",explode(\"rates.negotiated_prices\"))"
   ]
  },
  {
   "cell_type": "code",
   "execution_count": 6,
   "id": "a6208129",
   "metadata": {},
   "outputs": [],
   "source": [
    "in_network= network_rates.select(\n",
    "    \"billing_code\",\n",
    "    \"billing_code_type\",\n",
    "    \"negotiation_arrangement\",\n",
    "    col(\"id\").alias(\"provider_group_id\"),\n",
    "    col(\"prices.negotiated_type\").alias(\"negotiated_type\"),\n",
    "    col(\"prices.negotiated_rate\").alias(\"negotiated_rate\"),\n",
    "    col(\"prices.billing_class\").alias(\"billing_class\"),\n",
    "    col(\"prices.billing_code_modifier\").alias(\"billing_code_modifier\"),\n",
    "    col(\"prices.service_code\").alias(\"service_code\")\n",
    ")"
   ]
  },
  {
   "cell_type": "code",
   "execution_count": 7,
   "id": "e89fb7c8",
   "metadata": {},
   "outputs": [
    {
     "name": "stdout",
     "output_type": "stream",
     "text": [
      "root\n",
      " |-- billing_code: string (nullable = true)\n",
      " |-- billing_code_type: string (nullable = true)\n",
      " |-- negotiation_arrangement: string (nullable = true)\n",
      " |-- provider_group_id: long (nullable = true)\n",
      " |-- negotiated_type: string (nullable = true)\n",
      " |-- negotiated_rate: double (nullable = true)\n",
      " |-- billing_class: string (nullable = true)\n",
      " |-- billing_code_modifier: array (nullable = true)\n",
      " |    |-- element: string (containsNull = true)\n",
      " |-- service_code: array (nullable = true)\n",
      " |    |-- element: string (containsNull = true)\n",
      "\n"
     ]
    }
   ],
   "source": [
    "in_network.printSchema()"
   ]
  },
  {
   "cell_type": "code",
   "execution_count": 8,
   "id": "7a4074ca",
   "metadata": {},
   "outputs": [
    {
     "name": "stderr",
     "output_type": "stream",
     "text": [
      "                                                                                \r"
     ]
    },
    {
     "name": "stdout",
     "output_type": "stream",
     "text": [
      "+------------+-----------------+-----------------------+-----------------+---------------+---------------+-------------+---------------------+------------+\n",
      "|billing_code|billing_code_type|negotiation_arrangement|provider_group_id|negotiated_type|negotiated_rate|billing_class|billing_code_modifier|service_code|\n",
      "+------------+-----------------+-----------------------+-----------------+---------------+---------------+-------------+---------------------+------------+\n",
      "|       PEMG1|              CPT|                    ffs|         10001001|     negotiated|           70.0| professional|                 NULL|        [11]|\n",
      "|       PEMG1|              CPT|                    ffs|         10002001|     negotiated|           70.0| professional|                 NULL|        [11]|\n",
      "|       PEMG1|              CPT|                    ffs|         10003001|     negotiated|           70.0| professional|                 NULL|        [11]|\n",
      "|       PEMG1|              CPT|                    ffs|         10004001|     negotiated|           70.0| professional|                 NULL|        [11]|\n",
      "|       PEMG1|              CPT|                    ffs|         10005001|     negotiated|           70.0| professional|                 NULL|        [11]|\n",
      "|       PEMG1|              CPT|                    ffs|         10006001|     negotiated|           70.0| professional|                 NULL|        [11]|\n",
      "|       PEMG1|              CPT|                    ffs|         10007001|     negotiated|           70.0| professional|                 NULL|        [11]|\n",
      "|       PEMG1|              CPT|                    ffs|         10008001|     negotiated|           70.0| professional|                 NULL|        [11]|\n",
      "|       PEMG1|              CPT|                    ffs|         10009001|     negotiated|           70.0| professional|                 NULL|        [11]|\n",
      "|       PEMG1|              CPT|                    ffs|         10010001|     negotiated|           70.0| professional|                 NULL|        [11]|\n",
      "|       PEMG1|              CPT|                    ffs|         10011001|     negotiated|           70.0| professional|                 NULL|        [11]|\n",
      "|       PEMG1|              CPT|                    ffs|         10012001|     negotiated|           70.0| professional|                 NULL|        [11]|\n",
      "|       PEMG1|              CPT|                    ffs|         10013001|     negotiated|           70.0| professional|                 NULL|        [11]|\n",
      "|       PEMG1|              CPT|                    ffs|         10014001|     negotiated|           70.0| professional|                 NULL|        [11]|\n",
      "|       PEMG1|              CPT|                    ffs|         10015001|     negotiated|           70.0| professional|                 NULL|        [11]|\n",
      "|       PEMG1|              CPT|                    ffs|         10016001|     negotiated|           70.0| professional|                 NULL|        [11]|\n",
      "|       PEMG1|              CPT|                    ffs|         10017001|     negotiated|           70.0| professional|                 NULL|        [11]|\n",
      "|       PEMG1|              CPT|                    ffs|         10018001|     negotiated|           70.0| professional|                 NULL|        [11]|\n",
      "|       PEMG1|              CPT|                    ffs|         10019001|     negotiated|           70.0| professional|                 NULL|        [11]|\n",
      "|       PEMG1|              CPT|                    ffs|         10020001|     negotiated|           70.0| professional|                 NULL|        [11]|\n",
      "+------------+-----------------+-----------------------+-----------------+---------------+---------------+-------------+---------------------+------------+\n",
      "only showing top 20 rows\n",
      "\n"
     ]
    }
   ],
   "source": [
    "in_network.show()"
   ]
  },
  {
   "cell_type": "code",
   "execution_count": 9,
   "id": "dbc3e04f",
   "metadata": {},
   "outputs": [
    {
     "name": "stdout",
     "output_type": "stream",
     "text": [
      "+-----------------+----------+--------+----------+\n",
      "|provider_group_id|npi       |tin_type|tin       |\n",
      "+-----------------+----------+--------+----------+\n",
      "|10001001         |1235233008|ein     |04-3267217|\n",
      "|10001001         |1316041189|ein     |04-3267217|\n",
      "|10001001         |1780788554|ein     |04-3267217|\n",
      "|10001001         |1891068409|ein     |04-3267217|\n",
      "|10001001         |1366459570|ein     |11-1562701|\n",
      "|10001001         |1417915653|ein     |11-3358535|\n",
      "|10001001         |1417915653|ein     |13-3888838|\n",
      "|10002001         |1609829761|ein     |00-0004110|\n",
      "|10002001         |1821482241|ein     |00-0004110|\n",
      "|10002001         |1760986277|ein     |00-6980743|\n",
      "|10002001         |1215075882|ein     |01-0550744|\n",
      "|10002001         |1013917665|ein     |01-0555304|\n",
      "|10002001         |1679780811|ein     |01-0555483|\n",
      "|10002001         |1700093952|ein     |01-0555483|\n",
      "|10002001         |1780072447|ein     |01-0555483|\n",
      "|10002001         |1952532970|ein     |01-0555483|\n",
      "|10002001         |1376647511|ein     |01-0567880|\n",
      "|10002001         |1740287010|ein     |01-0569673|\n",
      "|10002001         |1265538219|ein     |01-0571165|\n",
      "|10002001         |1689625253|ein     |01-0577025|\n",
      "+-----------------+----------+--------+----------+\n",
      "only showing top 20 rows\n",
      "\n"
     ]
    },
    {
     "name": "stderr",
     "output_type": "stream",
     "text": [
      "                                                                                \r"
     ]
    }
   ],
   "source": [
    "provider_exploded = provider.withColumn(\"provider\", explode(\"provider_groups\"))\n",
    "provider_npi = provider_exploded.withColumn(\"npi\", explode(\"provider.npi\"))\n",
    "\n",
    "in_provider = provider_npi.select(\n",
    "    col(\"provider_group_id\"),\n",
    "    col(\"npi\").alias(\"npi\"),\n",
    "    col(\"provider.tin.type\").alias(\"tin_type\"),\n",
    "    col(\"provider.tin.value\").alias(\"tin\")\n",
    ")\n",
    "\n",
    "in_provider.show(truncate=False)"
   ]
  },
  {
   "cell_type": "code",
   "execution_count": 10,
   "id": "79ef70cf",
   "metadata": {},
   "outputs": [],
   "source": [
    "provider_final=in_provider.withColumn(\"tin_type\",when(col(\"tin_type\")==\"ein\",1)\n",
    "                                      .when(col(\"tin_type\")== \"npi\",2))"
   ]
  },
  {
   "cell_type": "code",
   "execution_count": 11,
   "id": "0024adf7",
   "metadata": {},
   "outputs": [
    {
     "name": "stdout",
     "output_type": "stream",
     "text": [
      "+-----------------+----------+--------+----------+\n",
      "|provider_group_id|       npi|tin_type|       tin|\n",
      "+-----------------+----------+--------+----------+\n",
      "|         10001001|1235233008|       1|04-3267217|\n",
      "|         10001001|1316041189|       1|04-3267217|\n",
      "|         10001001|1780788554|       1|04-3267217|\n",
      "|         10001001|1891068409|       1|04-3267217|\n",
      "|         10001001|1366459570|       1|11-1562701|\n",
      "|         10001001|1417915653|       1|11-3358535|\n",
      "|         10001001|1417915653|       1|13-3888838|\n",
      "|         10002001|1609829761|       1|00-0004110|\n",
      "|         10002001|1821482241|       1|00-0004110|\n",
      "|         10002001|1760986277|       1|00-6980743|\n",
      "|         10002001|1215075882|       1|01-0550744|\n",
      "|         10002001|1013917665|       1|01-0555304|\n",
      "|         10002001|1679780811|       1|01-0555483|\n",
      "|         10002001|1700093952|       1|01-0555483|\n",
      "|         10002001|1780072447|       1|01-0555483|\n",
      "|         10002001|1952532970|       1|01-0555483|\n",
      "|         10002001|1376647511|       1|01-0567880|\n",
      "|         10002001|1740287010|       1|01-0569673|\n",
      "|         10002001|1265538219|       1|01-0571165|\n",
      "|         10002001|1689625253|       1|01-0577025|\n",
      "+-----------------+----------+--------+----------+\n",
      "only showing top 20 rows\n",
      "\n"
     ]
    },
    {
     "name": "stderr",
     "output_type": "stream",
     "text": [
      "                                                                                \r"
     ]
    }
   ],
   "source": [
    "provider_final.show()"
   ]
  },
  {
   "cell_type": "markdown",
   "id": "32d5ec69",
   "metadata": {},
   "source": [
    "Remove null value"
   ]
  },
  {
   "cell_type": "code",
   "execution_count": 12,
   "id": "31f3cb7b",
   "metadata": {},
   "outputs": [],
   "source": [
    "from pyspark.sql.functions import expr"
   ]
  },
  {
   "cell_type": "code",
   "execution_count": 13,
   "id": "485bdf26",
   "metadata": {},
   "outputs": [],
   "source": [
    "new_network=in_network.filter(in_network.billing_code.isNotNull())"
   ]
  },
  {
   "cell_type": "code",
   "execution_count": 14,
   "id": "0088ad4a",
   "metadata": {},
   "outputs": [],
   "source": [
    "# hash_network=remove_network.withColumn('service_code',hash('service_code'))"
   ]
  },
  {
   "cell_type": "code",
   "execution_count": 15,
   "id": "e94cdbb4",
   "metadata": {},
   "outputs": [],
   "source": [
    "in_provider_hyphen = provider_final.withColumn(\"tin\",expr(\"REPLACE(tin,'-','')\"))"
   ]
  },
  {
   "cell_type": "code",
   "execution_count": 16,
   "id": "003ca313",
   "metadata": {},
   "outputs": [
    {
     "name": "stderr",
     "output_type": "stream",
     "text": [
      "                                                                                \r"
     ]
    },
    {
     "data": {
      "text/plain": [
       "454512"
      ]
     },
     "execution_count": 16,
     "metadata": {},
     "output_type": "execute_result"
    }
   ],
   "source": [
    "new_network.filter(in_network.billing_code_modifier.isNotNull()).count()"
   ]
  },
  {
   "cell_type": "code",
   "execution_count": 17,
   "id": "c67ec7e8",
   "metadata": {},
   "outputs": [],
   "source": [
    "# in_network_renamed=hash_network.withColumnRenamed('billing_class','bcIs')\\\n",
    "#             .withColumnRenamed('billing_code','bC')\\\n",
    "#             .withColumnRenamed('billing_code_type','bCT')\\\n",
    "#             .withColumnRenamed('negotiated_rate','negR')\\\n",
    "#             .withColumnRenamed('negotiated_type','negT')\\\n",
    "#             .withColumnRenamed('negotiation_arrangement','negA')\\\n",
    "#             .withColumnRenamed('service_code','poSH')\n",
    "# in_network_renamed.show()"
   ]
  },
  {
   "cell_type": "code",
   "execution_count": 18,
   "id": "d20d7a1b",
   "metadata": {},
   "outputs": [
    {
     "name": "stdout",
     "output_type": "stream",
     "text": [
      "root\n",
      " |-- billing_code: string (nullable = true)\n",
      " |-- billing_code_type: string (nullable = true)\n",
      " |-- negotiation_arrangement: string (nullable = true)\n",
      " |-- provider_group_id: long (nullable = true)\n",
      " |-- negotiated_type: string (nullable = true)\n",
      " |-- negotiated_rate: double (nullable = true)\n",
      " |-- billing_class: string (nullable = true)\n",
      " |-- billing_code_modifier: array (nullable = true)\n",
      " |    |-- element: string (containsNull = true)\n",
      " |-- service_code: array (nullable = true)\n",
      " |    |-- element: string (containsNull = true)\n",
      "\n"
     ]
    }
   ],
   "source": [
    "new_network.printSchema()"
   ]
  },
  {
   "cell_type": "markdown",
   "id": "537162e2",
   "metadata": {},
   "source": [
    "Cast to array of integer"
   ]
  },
  {
   "cell_type": "code",
   "execution_count": 19,
   "id": "c031e720",
   "metadata": {},
   "outputs": [],
   "source": [
    "provider_cast = in_provider_hyphen.withColumn(\"tin_type\",col(\"tin_type\").cast(ShortType()))"
   ]
  },
  {
   "cell_type": "code",
   "execution_count": 20,
   "id": "c3708b1f",
   "metadata": {},
   "outputs": [
    {
     "name": "stdout",
     "output_type": "stream",
     "text": [
      "root\n",
      " |-- provider_group_id: long (nullable = true)\n",
      " |-- npi: long (nullable = true)\n",
      " |-- tin_type: short (nullable = true)\n",
      " |-- tin: string (nullable = true)\n",
      "\n"
     ]
    }
   ],
   "source": [
    "provider_cast.printSchema()"
   ]
  },
  {
   "cell_type": "code",
   "execution_count": 21,
   "id": "49db59bf",
   "metadata": {},
   "outputs": [],
   "source": [
    "in_network_cast = new_network.withColumn(\"service_code\",col(\"service_code\").cast(ArrayType(IntegerType()))\n",
    ")"
   ]
  },
  {
   "cell_type": "code",
   "execution_count": 22,
   "id": "98ea1a97",
   "metadata": {},
   "outputs": [
    {
     "name": "stdout",
     "output_type": "stream",
     "text": [
      "root\n",
      " |-- billing_code: string (nullable = true)\n",
      " |-- billing_code_type: string (nullable = true)\n",
      " |-- negotiation_arrangement: string (nullable = true)\n",
      " |-- provider_group_id: long (nullable = true)\n",
      " |-- negotiated_type: string (nullable = true)\n",
      " |-- negotiated_rate: double (nullable = true)\n",
      " |-- billing_class: string (nullable = true)\n",
      " |-- billing_code_modifier: array (nullable = true)\n",
      " |    |-- element: string (containsNull = true)\n",
      " |-- service_code: array (nullable = true)\n",
      " |    |-- element: integer (containsNull = true)\n",
      "\n"
     ]
    }
   ],
   "source": [
    "in_network_cast.printSchema()"
   ]
  },
  {
   "cell_type": "code",
   "execution_count": 23,
   "id": "c7bdbaa4",
   "metadata": {},
   "outputs": [
    {
     "name": "stdout",
     "output_type": "stream",
     "text": [
      "DataFrame[billing_code: string, billing_code_type: string, negotiation_arrangement: string, provider_group_id: bigint, negotiated_type: string, negotiated_rate: double, billing_class: string, billing_code_modifier: array<string>, service_code: array<int>]\n"
     ]
    }
   ],
   "source": [
    "print(in_network_cast)"
   ]
  },
  {
   "cell_type": "code",
   "execution_count": 24,
   "id": "6c2f2895",
   "metadata": {},
   "outputs": [
    {
     "data": {
      "text/plain": [
       "pyspark.sql.dataframe.DataFrame"
      ]
     },
     "execution_count": 24,
     "metadata": {},
     "output_type": "execute_result"
    }
   ],
   "source": [
    "type(in_network_cast)\n",
    "type(provider_cast)"
   ]
  },
  {
   "cell_type": "code",
   "execution_count": 27,
   "id": "24d1d9d3",
   "metadata": {},
   "outputs": [
    {
     "name": "stderr",
     "output_type": "stream",
     "text": [
      "                                                                                \r"
     ]
    }
   ],
   "source": [
    "in_network_cast.write.parquet('IgnoreFolder/NetworkScrub.parquet')\n",
    "provider_cast.write.parquet('IgnoreFolder/ProviderScrub.parquet')"
   ]
  },
  {
   "cell_type": "code",
   "execution_count": null,
   "id": "86cef604",
   "metadata": {},
   "outputs": [],
   "source": []
  }
 ],
 "metadata": {
  "kernelspec": {
   "display_name": "Python 3",
   "language": "python",
   "name": "python3"
  },
  "language_info": {
   "codemirror_mode": {
    "name": "ipython",
    "version": 3
   },
   "file_extension": ".py",
   "mimetype": "text/x-python",
   "name": "python",
   "nbconvert_exporter": "python",
   "pygments_lexer": "ipython3",
   "version": "3.10.12"
  }
 },
 "nbformat": 4,
 "nbformat_minor": 5
}
